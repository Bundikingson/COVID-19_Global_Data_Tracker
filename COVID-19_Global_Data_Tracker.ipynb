# COVID-19_Global_Data_Tracker.ipynb

import pandas as pd
import matplotlib.pyplot as plt
import seaborn as sns
import plotly.express as px
from datetime import datetime

# ===== 1. Data Loading =====
try:
    df = pd.read_csv('owid-covid-data.csv', parse_dates=['date'])
    print("✅ Dataset loaded successfully ({} rows)".format(len(df)))
except Exception as e:
    print(f"❌ Error loading dataset: {e}")

# ===== 2. Data Exploration =====
print("\n=== Dataset Structure ===")
print(df.info())

print("\n=== Missing Values ===")
print(df.isnull().sum().sort_values(ascending=False).head(10))

# ===== 3. Data Cleaning =====
# Select key columns and countries
countries = ['United States', 'India', 'Brazil', 'Germany', 'Kenya', 'South Africa']
cols = ['date', 'location', 'total_cases', 'new_cases', 'total_deaths', 'new_deaths',
        'people_vaccinated', 'population', 'life_expectancy']

df_clean = df[df['location'].isin(countries)][cols].copy()

# Handle missing values
df_clean['total_cases'] = df_clean.groupby('location')['total_cases'].ffill()
df_clean['total_deaths'] = df_clean.groupby('location')['total_deaths'].ffill()

# Calculate derived metrics
df_clean['cases_per_million'] = (df_clean['total_cases'] / df_clean['population']) * 1e6
df_clean['death_rate'] = df_clean['total_deaths'] / df_clean['total_cases']

# ===== 4. EDA Visualizations =====
plt.figure(figsize=(12, 6))
sns.lineplot(data=df_clean, x='date', y='total_cases', hue='location')
plt.title('Total COVID-19 Cases Over Time')
plt.ylabel('Total Cases')
plt.xticks(rotation=45)
plt.tight_layout()
plt.savefig('total_cases_trend.png')
plt.show()

# ===== 5. Vaccination Analysis =====
vaccine_df = df_clean.dropna(subset=['people_vaccinated'])
vaccine_df['pct_vaccinated'] = (vaccine_df['people_vaccinated'] / vaccine_df['population']) * 100

plt.figure(figsize=(10, 6))
sns.barplot(data=vaccine_df.groupby('location')['pct_vaccinated'].max().reset_index(),
            x='location', y='pct_vaccinated')
plt.title('Maximum Vaccination Percentage by Country')
plt.ylabel('% Population Vaccinated')
plt.xticks(rotation=45)
plt.tight_layout()
plt.savefig('vaccination_pct.png')
plt.show()

# ===== 6. Choropleth Map (Plotly) =====
latest = df[df['date'] == df['date'].max()]
fig = px.choropleth(latest,
                    locations="iso_code",
                    color="total_cases_per_million",
                    hover_name="location",
                    color_continuous_scale=px.colors.sequential.Plasma,
                    title="Global COVID-19 Cases per Million")
fig.write_html('global_cases_map.html')
fig.show()

# ===== 7. Key Insights =====
print("\n=== Key Insights ===")
print("1. Vaccination rates vary significantly between developed and developing nations")
print("2. Case fatality rates show interesting patterns by region")
print("3. Some countries experienced multiple distinct waves of infections")
