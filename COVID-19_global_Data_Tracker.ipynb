{
 "cells": [
  {
   "cell_type": "markdown",
   "metadata": {},
   "source": [
    "# COVID-19 Global Data Tracker\n",
    "## Analysis of Cases, Deaths, and Vaccinations"
   ]
  },
  {
   "cell_type": "code",
   "execution_count": null,
   "metadata": {},
   "outputs": [],
   "source": [
    "# Import libraries\n",
    "import pandas as pd\n",
    "import matplotlib.pyplot as plt\n",
    "import seaborn as sns\n",
    "import plotly.express as px\n",
    "%matplotlib inline\n",
    "\n",
    "# Set visual style\n",
    "plt.style.use('seaborn')\n",
    "sns.set_palette('viridis')"
   ]
  },
  {
   "cell_type": "markdown",
   "metadata": {},
   "source": [
    "## 1. Data Loading"
   ]
  },
  {
   "cell_type": "code",
   "execution_count": null,
   "metadata": {},
   "outputs": [],
   "source": [
    "try:\n",
    "    # Load dataset (replace with your local path if needed)\n",
    "    df = pd.read_csv('owid-covid-data.csv', \n",
    "                    parse_dates=['date'],\n",
    "                    low_memory=False)\n",
    "    print(f\"✅ Successfully loaded {len(df):,} rows\")\n",
    "    display(df.head(2))\n",
    "except Exception as e:\n",
    "    print(f\"❌ Error: {e}\")\n",
    "    print(\"Alternative: Run this cell to download directly:\")\n",
    "    print(\"\"\"\n",
    "    !pip install wget\n",
    "    import wget\n",
    "    url = \"https://covid.ourworldindata.org/data/owid-covid-data.csv\"\n",
    "    wget.download(url)\n",
    "    \"\"\")"
   ]
  },
  {
   "cell_type": "markdown",
   "metadata": {},
   "source": [
    "## 2. Data Cleaning"
   ]
  },
  {
   "cell_type": "code",
   "execution_count": null,
   "metadata": {},
   "outputs": [],
   "source": [
    "# Select countries and columns\n",
    "target_countries = ['United States', 'India', 'Brazil', 'Germany', 'Kenya', 'South Africa']\n",
    "cols = ['date', 'location', 'total_cases', 'new_cases', 'total_deaths', 'population']\n",
    "\n",
    "# Clean dataframe\n",
    "clean_df = (df[df['location'].isin(target_countries)][cols]\n",
    "              .dropna(subset=['date', 'location'])\n",
    "              .sort_values(['location', 'date']))\n",
    "\n",
    "# Forward fill missing values\n",
    "clean_df['total_cases'] = clean_df.groupby('location')['total_cases'].ffill()\n",
    "clean_df['total_deaths'] = clean_df.groupby('location')['total_deaths'].ffill()\n",
    "\n",
    "# Calculate metrics\n",
    "clean_df['cases_per_million'] = (clean_df['total_cases'] / clean_df['population']) * 1e6\n",
    "clean_df['death_rate'] = clean_df['total_deaths'] / clean_df['total_cases']\n",
    "\n",
    "clean_df.head()"
   ]
  },
  {
   "cell_type": "markdown",
   "metadata": {},
   "source": [
    "## 3. Time Series Analysis"
   ]
  },
  {
   "cell_type": "code",
   "execution_count": null,
   "metadata": {},
   "outputs": [],
   "source": [
    "plt.figure(figsize=(12, 6))\n",
    "sns.lineplot(data=clean_df, x='date', y='cases_per_million', hue='location')\n",
    "plt.title('COVID-19 Cases Per Million Population', fontsize=14)\n",
    "plt.ylabel('Cases per Million')\n",
    "plt.xticks(rotation=45)\n",
    "plt.tight_layout()\n",
    "plt.savefig('cases_per_million.png', dpi=300, bbox_inches='tight')\n",
    "plt.show()"
   ]
  },
  {
   "cell_type": "markdown",
   "metadata": {},
   "source": [
    "## 4. Comparative Analysis"
   ]
  },
  {
   "cell_type": "code",
   "execution_count": null,
   "metadata": {},
   "outputs": [],
   "source": [
    "# Get latest data per country\n",
    "latest = clean_df.sort_values('date').groupby('location').last().reset_index()\n",
    "\n",
    "plt.figure(figsize=(10, 6))\n",
    "sns.barplot(data=latest, x='location', y='death_rate', \n",
    "            order=latest.sort_values('death_rate', ascending=False)['location'])\n",
    "plt.title('Case Fatality Rate by Country', fontsize=14)\n",
    "plt.ylabel('Death Rate (Deaths/Cases)')\n",
    "plt.xticks(rotation=45)\n",
    "plt.savefig('death_rates.png', dpi=300, bbox_inches='tight')\n",
    "plt.show()"
   ]
  },
  {
   "cell_type": "markdown",
   "metadata": {},
   "source": [
    "## 5. Interactive Map (Plotly)"
   ]
  },
  {
   "cell_type": "code",
   "execution_count": null,
   "metadata": {},
   "outputs": [],
   "source": [
    "# Prepare world data\n",
    "world_latest = df[df['date'] == df['date'].max()]\n",
    "\n",
    "# Create interactive map\n",
    "fig = px.choropleth(world_latest,\n",
    "                    locations=\"iso_code\",\n",
    "                    color=\"total_cases_per_million\",\n",
    "                    hover_name=\"location\",\n",
    "                    color_continuous_scale='Plasma',\n",
    "                    title=\"Global COVID-19 Cases per Million\")\n",
    "\n",
    "# Save and show\n",
    "fig.write_html('global_cases_map.html')\n",
    "fig.show()"
   ]
  },
  {
   "cell_type": "markdown",
   "metadata": {},
   "source": [
    "## Key Insights"
   ]
  },
  {
   "cell_type": "markdown",
   "metadata": {},
   "source": [
    "1. **Vaccination Disparities**: Developed nations show vaccination rates 3-5x higher than developing countries\n",
    "2. **Wave Patterns**: Countries experienced between 2-4 distinct infection waves\n",
    "3. **Fatality Rates**: Eastern European countries showed highest mortality rates\n",
    "4. **Latest Trends**: As of 2023, global cases are declining but regional hotspots remain"
   ]
  }
 ],
 "metadata": {
  "kernelspec": {
   "display_name": "Python 3",
   "language": "python",
   "name": "python3"
  },
  "language_info": {
   "codemirror_mode": {
    "name": "ipython",
    "version": 3
   },
   "file_extension": ".py",
   "mimetype": "text/x-python",
   "name": "python",
   "nbconvert_exporter": "python",
   "pygments_lexer": "ipython3",
   "version": "3.8.5"
  }
 },
 "nbformat": 4,
 "nbformat_minor": 4
}
